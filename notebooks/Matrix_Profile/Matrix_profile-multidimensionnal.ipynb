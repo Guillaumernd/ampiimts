{
 "cells": [
  {
   "cell_type": "code",
   "execution_count": 1,
   "id": "69eb89ef-e549-46cd-b95e-9088eefc14cf",
   "metadata": {},
   "outputs": [],
   "source": [
    "\"\"\"\n",
    "Notebook Matrix Profile – ampiimts Python 3.11 package\n",
    "\n",
    "Goal:\n",
    "From pre processing signal with original value, normalize value, timestamp. \n",
    "We identify discord and motifs with a fix window on matrix profile methode (stumpy.maamp)\n",
    "\"\"\"\n",
    "import numpy as np\n",
    "import pandas as pd\n",
    "import ampiimts\n",
    "import time\n",
    "import os\n",
    "import stumpy"
   ]
  },
  {
   "cell_type": "code",
   "execution_count": 2,
   "id": "c5906738-4794-45a7-b6ae-7a5f61ef54ca",
   "metadata": {},
   "outputs": [],
   "source": [
    "#import files\n",
    "folder = '../../dataset/pollution'\n",
    "pds = []\n",
    "with os.scandir(folder) as entries:\n",
    "    for entry in entries:\n",
    "        if entry.is_file() and entry.name.endswith('csv'):\n",
    "            # list of sensors with some parameters -> list[pd.DataFrame[timestamp, value1, value2, etc..., latitude, longitude]]) \n",
    "            pds.append(pd.read_csv(folder+'/'+entry.name))\n",
    "len(pds)\n",
    "pds = pds[:10]\n",
    "# and not entry.name.startswith('pollutionData')"
   ]
  },
  {
   "cell_type": "code",
   "execution_count": null,
   "id": "6d16a381-f956-4dbd-ba37-114cbadabb04",
   "metadata": {},
   "outputs": [
    {
     "name": "stdout",
     "output_type": "stream",
     "text": [
      "[WINDOW LIST] Fenêtre retenue (variables séparées) → 14 days 02:40:00\n"
     ]
    },
    {
     "ename": "KeyboardInterrupt",
     "evalue": "",
     "output_type": "error",
     "traceback": [
      "\u001b[31m---------------------------------------------------------------------------\u001b[39m",
      "\u001b[31mKeyboardInterrupt\u001b[39m                         Traceback (most recent call last)",
      "\u001b[36mCell\u001b[39m\u001b[36m \u001b[39m\u001b[32mIn[3]\u001b[39m\u001b[32m, line 3\u001b[39m\n\u001b[32m      1\u001b[39m pds_normalized = ampiimts.pre_processed(pds, sort_by_variables=\u001b[38;5;28;01mTrue\u001b[39;00m)\n\u001b[32m----> \u001b[39m\u001b[32m3\u001b[39m mx_profile = \u001b[43mampiimts\u001b[49m\u001b[43m.\u001b[49m\u001b[43mmatrix_profile\u001b[49m\u001b[43m(\u001b[49m\u001b[43mpds_normalized\u001b[49m\u001b[43m)\u001b[49m\n",
      "\u001b[36mFile \u001b[39m\u001b[32m~/swt_package/src/ampiimts/matrix_profile.py:109\u001b[39m, in \u001b[36mmatrix_profile\u001b[39m\u001b[34m(df_o, window_size, n_jobs, column, max_motifs, discord_top_pct, max_matches)\u001b[39m\n\u001b[32m    107\u001b[39m \u001b[38;5;28;01mif\u001b[39;00m \u001b[38;5;28misinstance\u001b[39m(df_o, \u001b[38;5;28mlist\u001b[39m):\n\u001b[32m    108\u001b[39m     result = []\n\u001b[32m--> \u001b[39m\u001b[32m109\u001b[39m     [result.append(\u001b[43mmatrix_profile_process\u001b[49m\u001b[43m(\u001b[49m\u001b[43mdf\u001b[49m\u001b[43m,\u001b[49m\u001b[43m \u001b[49m\u001b[43mwindow_size\u001b[49m\u001b[43m=\u001b[49m\u001b[43mwindow_size\u001b[49m\u001b[43m)\u001b[49m) \u001b[38;5;28;01mfor\u001b[39;00m df \u001b[38;5;129;01min\u001b[39;00m df_o]\n\u001b[32m    110\u001b[39m     \u001b[38;5;28;01mreturn\u001b[39;00m result\n\u001b[32m    113\u001b[39m \u001b[38;5;66;03m# Automatically pick the sole column for univariate series\u001b[39;00m\n",
      "\u001b[36mFile \u001b[39m\u001b[32m~/swt_package/src/ampiimts/matrix_profile.py:58\u001b[39m, in \u001b[36mmatrix_profile_process\u001b[39m\u001b[34m(df_o, window_size, column, max_motifs, discord_top_pct, max_matches)\u001b[39m\n\u001b[32m     49\u001b[39m     \u001b[38;5;28;01mreturn\u001b[39;00m discover_patterns_stumpy_mixed(\n\u001b[32m     50\u001b[39m         df,\n\u001b[32m     51\u001b[39m         window_size,\n\u001b[32m   (...)\u001b[39m\u001b[32m     54\u001b[39m         max_matches=max_matches,\n\u001b[32m     55\u001b[39m     )\n\u001b[32m     57\u001b[39m \u001b[38;5;66;03m# ==== MULTIVARIATE ====\u001b[39;00m\n\u001b[32m---> \u001b[39m\u001b[32m58\u001b[39m \u001b[38;5;28;01mreturn\u001b[39;00m \u001b[43mdiscover_patterns_mstump_mixed\u001b[49m\u001b[43m(\u001b[49m\n\u001b[32m     59\u001b[39m \u001b[43m    \u001b[49m\u001b[43mdf\u001b[49m\u001b[43m,\u001b[49m\n\u001b[32m     60\u001b[39m \u001b[43m    \u001b[49m\u001b[43mwindow_size\u001b[49m\u001b[43m,\u001b[49m\n\u001b[32m     61\u001b[39m \u001b[43m    \u001b[49m\u001b[43mmax_motifs\u001b[49m\u001b[43m=\u001b[49m\u001b[43mmax_motifs\u001b[49m\u001b[43m,\u001b[49m\n\u001b[32m     62\u001b[39m \u001b[43m    \u001b[49m\u001b[43mdiscord_top_pct\u001b[49m\u001b[43m=\u001b[49m\u001b[43mdiscord_top_pct\u001b[49m\u001b[43m,\u001b[49m\n\u001b[32m     63\u001b[39m \u001b[43m    \u001b[49m\u001b[43mmax_matches\u001b[49m\u001b[43m=\u001b[49m\u001b[43mmax_matches\u001b[49m\u001b[43m,\u001b[49m\n\u001b[32m     64\u001b[39m \u001b[43m\u001b[49m\u001b[43m)\u001b[49m\n",
      "\u001b[36mFile \u001b[39m\u001b[32m~/swt_package/src/ampiimts/motif_pattern.py:196\u001b[39m, in \u001b[36mdiscover_patterns_mstump_mixed\u001b[39m\u001b[34m(df, window_size, max_motifs, discord_top_pct, max_matches)\u001b[39m\n\u001b[32m    186\u001b[39m P, I = stumpy.mstump(X, m=window_size, normalize=\u001b[38;5;28;01mFalse\u001b[39;00m, discords=\u001b[38;5;28;01mFalse\u001b[39;00m)\n\u001b[32m    187\u001b[39m motif_distances, motif_indices, motif_subspaces, motif_mdls = stumpy.mmotifs(\n\u001b[32m    188\u001b[39m     X,\n\u001b[32m    189\u001b[39m     P,\n\u001b[32m   (...)\u001b[39m\u001b[32m    193\u001b[39m     normalize=\u001b[38;5;28;01mFalse\u001b[39;00m,\n\u001b[32m    194\u001b[39m )\n\u001b[32m--> \u001b[39m\u001b[32m196\u001b[39m P_disc, _ = \u001b[43mstumpy\u001b[49m\u001b[43m.\u001b[49m\u001b[43mmstump\u001b[49m\u001b[43m(\u001b[49m\u001b[43mX\u001b[49m\u001b[43m,\u001b[49m\u001b[43m \u001b[49m\u001b[43mm\u001b[49m\u001b[43m=\u001b[49m\u001b[43mwindow_size\u001b[49m\u001b[43m,\u001b[49m\u001b[43m \u001b[49m\u001b[43mnormalize\u001b[49m\u001b[43m=\u001b[49m\u001b[38;5;28;43;01mFalse\u001b[39;49;00m\u001b[43m,\u001b[49m\u001b[43m \u001b[49m\u001b[43mdiscords\u001b[49m\u001b[43m=\u001b[49m\u001b[38;5;28;43;01mTrue\u001b[39;49;00m\u001b[43m)\u001b[49m\n\u001b[32m    197\u001b[39m avg_disc = np.nanmean(P_disc, axis=\u001b[32m0\u001b[39m)\n\u001b[32m    198\u001b[39m top_n = \u001b[38;5;28mmax\u001b[39m(\u001b[32m1\u001b[39m, \u001b[38;5;28mint\u001b[39m(\u001b[38;5;28mlen\u001b[39m(avg_disc) * discord_top_pct))\n",
      "\u001b[36mFile \u001b[39m\u001b[32m~/swt_package/.env_swt/lib/python3.12/site-packages/stumpy/core.py:148\u001b[39m, in \u001b[36mnon_normalized.<locals>.outer_wrapper.<locals>.inner_wrapper\u001b[39m\u001b[34m(*args, **kwargs)\u001b[39m\n\u001b[32m    146\u001b[39m             \u001b[38;5;28;01melse\u001b[39;00m:\n\u001b[32m    147\u001b[39m                 kwargs[v] = kwargs.pop(k)\n\u001b[32m--> \u001b[39m\u001b[32m148\u001b[39m \u001b[38;5;28;01mreturn\u001b[39;00m \u001b[43mnon_norm\u001b[49m\u001b[43m(\u001b[49m\u001b[43m*\u001b[49m\u001b[43margs\u001b[49m\u001b[43m,\u001b[49m\u001b[43m \u001b[49m\u001b[43m*\u001b[49m\u001b[43m*\u001b[49m\u001b[43mkwargs\u001b[49m\u001b[43m)\u001b[49m\n",
      "\u001b[36mFile \u001b[39m\u001b[32m~/swt_package/.env_swt/lib/python3.12/site-packages/stumpy/maamp.py:966\u001b[39m, in \u001b[36mmaamp\u001b[39m\u001b[34m(T, m, include, discords, p)\u001b[39m\n\u001b[32m    952\u001b[39m P[:, start], I[:, start] = _get_first_maamp_profile(\n\u001b[32m    953\u001b[39m     start,\n\u001b[32m    954\u001b[39m     T_A,\n\u001b[32m   (...)\u001b[39m\u001b[32m    961\u001b[39m     discords,\n\u001b[32m    962\u001b[39m )\n\u001b[32m    964\u001b[39m p_norm, p_norm_first = _get_multi_p_norm(start, T_A, m, p=p)\n\u001b[32m--> \u001b[39m\u001b[32m966\u001b[39m P[:, start + \u001b[32m1\u001b[39m : stop], I[:, start + \u001b[32m1\u001b[39m : stop] = \u001b[43m_maamp\u001b[49m\u001b[43m(\u001b[49m\n\u001b[32m    967\u001b[39m \u001b[43m    \u001b[49m\u001b[43mT_A\u001b[49m\u001b[43m,\u001b[49m\n\u001b[32m    968\u001b[39m \u001b[43m    \u001b[49m\u001b[43mm\u001b[49m\u001b[43m,\u001b[49m\n\u001b[32m    969\u001b[39m \u001b[43m    \u001b[49m\u001b[43mstop\u001b[49m\u001b[43m,\u001b[49m\n\u001b[32m    970\u001b[39m \u001b[43m    \u001b[49m\u001b[43mexcl_zone\u001b[49m\u001b[43m,\u001b[49m\n\u001b[32m    971\u001b[39m \u001b[43m    \u001b[49m\u001b[43mT_A_subseq_isfinite\u001b[49m\u001b[43m,\u001b[49m\n\u001b[32m    972\u001b[39m \u001b[43m    \u001b[49m\u001b[43mT_B_subseq_isfinite\u001b[49m\u001b[43m,\u001b[49m\n\u001b[32m    973\u001b[39m \u001b[43m    \u001b[49m\u001b[43mp\u001b[49m\u001b[43m,\u001b[49m\n\u001b[32m    974\u001b[39m \u001b[43m    \u001b[49m\u001b[43mp_norm\u001b[49m\u001b[43m,\u001b[49m\n\u001b[32m    975\u001b[39m \u001b[43m    \u001b[49m\u001b[43mp_norm_first\u001b[49m\u001b[43m,\u001b[49m\n\u001b[32m    976\u001b[39m \u001b[43m    \u001b[49m\u001b[43ml\u001b[49m\u001b[43m,\u001b[49m\n\u001b[32m    977\u001b[39m \u001b[43m    \u001b[49m\u001b[43mstart\u001b[49m\u001b[43m \u001b[49m\u001b[43m+\u001b[49m\u001b[43m \u001b[49m\u001b[32;43m1\u001b[39;49m\u001b[43m,\u001b[49m\n\u001b[32m    978\u001b[39m \u001b[43m    \u001b[49m\u001b[43minclude\u001b[49m\u001b[43m,\u001b[49m\n\u001b[32m    979\u001b[39m \u001b[43m    \u001b[49m\u001b[43mdiscords\u001b[49m\u001b[43m,\u001b[49m\n\u001b[32m    980\u001b[39m \u001b[43m\u001b[49m\u001b[43m)\u001b[49m\n\u001b[32m    982\u001b[39m \u001b[38;5;28;01mreturn\u001b[39;00m P, I\n",
      "\u001b[36mFile \u001b[39m\u001b[32m~/swt_package/.env_swt/lib/python3.12/site-packages/stumpy/maamp.py:829\u001b[39m, in \u001b[36m_maamp\u001b[39m\u001b[34m(T, m, range_stop, excl_zone, T_A_subseq_isfinite, T_B_subseq_isfinite, p, p_norm, p_norm_first, k, range_start, include, discords)\u001b[39m\n\u001b[32m    826\u001b[39m     mask[restricted_indices] = \u001b[38;5;28;01mFalse\u001b[39;00m\n\u001b[32m    828\u001b[39m \u001b[38;5;28;01mfor\u001b[39;00m idx \u001b[38;5;129;01min\u001b[39;00m \u001b[38;5;28mrange\u001b[39m(range_start, range_stop):\n\u001b[32m--> \u001b[39m\u001b[32m829\u001b[39m     \u001b[43m_compute_multi_p_norm\u001b[49m\u001b[43m(\u001b[49m\n\u001b[32m    830\u001b[39m \u001b[43m        \u001b[49m\u001b[43md\u001b[49m\u001b[43m,\u001b[49m\n\u001b[32m    831\u001b[39m \u001b[43m        \u001b[49m\u001b[43mk\u001b[49m\u001b[43m,\u001b[49m\n\u001b[32m    832\u001b[39m \u001b[43m        \u001b[49m\u001b[43midx\u001b[49m\u001b[43m,\u001b[49m\n\u001b[32m    833\u001b[39m \u001b[43m        \u001b[49m\u001b[43mp_norm\u001b[49m\u001b[43m,\u001b[49m\n\u001b[32m    834\u001b[39m \u001b[43m        \u001b[49m\u001b[43mT\u001b[49m\u001b[43m,\u001b[49m\n\u001b[32m    835\u001b[39m \u001b[43m        \u001b[49m\u001b[43mm\u001b[49m\u001b[43m,\u001b[49m\n\u001b[32m    836\u001b[39m \u001b[43m        \u001b[49m\u001b[43mexcl_zone\u001b[49m\u001b[43m,\u001b[49m\n\u001b[32m    837\u001b[39m \u001b[43m        \u001b[49m\u001b[43mT_A_subseq_isfinite\u001b[49m\u001b[43m,\u001b[49m\n\u001b[32m    838\u001b[39m \u001b[43m        \u001b[49m\u001b[43mT_B_subseq_isfinite\u001b[49m\u001b[43m,\u001b[49m\n\u001b[32m    839\u001b[39m \u001b[43m        \u001b[49m\u001b[43mp\u001b[49m\u001b[43m,\u001b[49m\n\u001b[32m    840\u001b[39m \u001b[43m        \u001b[49m\u001b[43mp_norm_even\u001b[49m\u001b[43m,\u001b[49m\n\u001b[32m    841\u001b[39m \u001b[43m        \u001b[49m\u001b[43mp_norm_odd\u001b[49m\u001b[43m,\u001b[49m\n\u001b[32m    842\u001b[39m \u001b[43m        \u001b[49m\u001b[43mp_norm_first\u001b[49m\u001b[43m,\u001b[49m\n\u001b[32m    843\u001b[39m \u001b[43m    \u001b[49m\u001b[43m)\u001b[49m\n\u001b[32m    845\u001b[39m     \u001b[38;5;66;03m# `include` processing must occur here since we are dealing with distances\u001b[39;00m\n\u001b[32m    846\u001b[39m     \u001b[38;5;28;01mif\u001b[39;00m include \u001b[38;5;129;01mis\u001b[39;00m \u001b[38;5;129;01mnot\u001b[39;00m \u001b[38;5;28;01mNone\u001b[39;00m:\n",
      "\u001b[31mKeyboardInterrupt\u001b[39m: "
     ]
    }
   ],
   "source": [
    "pds_normalized = ampiimts.pre_processed(pds, sort_by_variables=False)\n",
    "\n",
    "mx_profile = ampiimts.matrix_profile(pds_normalized)\n",
    "\n"
   ]
  },
  {
   "cell_type": "code",
   "execution_count": null,
   "id": "ceeada55",
   "metadata": {},
   "outputs": [
    {
     "name": "stdout",
     "output_type": "stream",
     "text": [
      "{'patterns': [], 'matrix_profile':                     value\n",
      "2014-08-01 00:05:00   NaN\n",
      "2014-08-01 00:10:00   NaN\n",
      "2014-08-01 00:15:00   NaN\n",
      "2014-08-01 00:20:00   NaN\n",
      "2014-08-01 00:25:00   NaN\n",
      "...                   ...\n",
      "2014-09-30 23:40:00   NaN\n",
      "2014-09-30 23:45:00   NaN\n",
      "2014-09-30 23:50:00   NaN\n",
      "2014-09-30 23:55:00   NaN\n",
      "2014-10-01 00:00:00   NaN\n",
      "\n",
      "[17568 rows x 1 columns], 'discord_indices': array([2715, 2716, 2717, 2718, 2719, 2720, 2721, 2722, 2723, 2724, 2725,\n",
      "       2726, 2727, 2728, 2729, 2730, 2731, 2732, 2733, 2734, 2735, 2736,\n",
      "       2737, 2738, 2739, 2740, 2741, 2742, 2743, 2744, 2745, 2746, 2747,\n",
      "       2748, 2749, 2750, 2751, 2752, 2753, 2754, 2755, 2756, 2757, 2758,\n",
      "       2759, 2760, 2761, 2762, 2763, 2764, 2765, 2766, 2767, 2768, 2769,\n",
      "       2770, 2771, 2772, 2773, 2774, 2775, 2776, 2777, 2778, 2779, 2780,\n",
      "       2781, 2782, 2783, 2784, 2785, 2786, 2787, 2788, 2789, 2790, 2791,\n",
      "       2792, 2793, 2794, 2795, 2796, 2797, 2798, 2799, 2800, 2801, 2802,\n",
      "       2803, 2804, 2805, 2806, 2807, 2808, 2809, 2810, 2811, 2812, 2813,\n",
      "       2814, 2815, 2816, 2817, 2818, 2819, 2820, 2821, 2822, 2823, 2824,\n",
      "       2825, 2826, 2827, 2828, 2829, 2830, 2831, 2832, 2833, 2834, 2835,\n",
      "       2836, 2837, 2838, 2839, 2840, 2841, 2842, 2843, 2844, 2845, 2846,\n",
      "       2847, 2848, 2849, 2850, 2851, 2852, 2853, 2854, 2855, 2856, 2857,\n",
      "       2858, 2859, 2860, 2861, 2862, 2863, 2864, 2865, 2866, 2867, 2868,\n",
      "       2869, 2870, 2871, 2872, 2873, 2874, 2875, 2876, 2877, 2878, 2879,\n",
      "       2880, 2881, 2882, 2883, 2884, 2885, 2886, 2887, 2888, 2889, 2890,\n",
      "       2891, 2892, 2893, 2894, 2895, 2896, 2897, 2898, 2899, 2900, 2901,\n",
      "       2902, 2903, 2904, 2905, 2906, 2907, 2908, 2909, 2910, 2911, 2912,\n",
      "       2913, 2914, 2915, 2916, 2917, 2918, 2919, 2920, 2921, 2922, 2923,\n",
      "       2924, 2925, 2926, 2927, 2928, 2929, 2930, 2931, 2932, 2933, 2934,\n",
      "       2935, 2936, 2937, 2938, 2939, 2940, 2941, 2942, 2943, 2944, 2945,\n",
      "       2946, 2947, 2948, 2949, 2950, 2951, 2952, 2953, 2954, 2955, 2956,\n",
      "       2957, 2958, 2959, 2960, 2961, 2962, 2963, 2964, 2965, 2966, 2967,\n",
      "       2968, 2969, 2970, 2971, 2972, 2973, 2974, 2975, 2976, 2977, 2978,\n",
      "       2979, 2980, 2981, 2982, 2983, 2984, 2985, 2986, 2987, 2988, 2989,\n",
      "       2990, 2991, 2992, 2993, 2994, 2995, 2996, 2997, 2998, 2999, 3000,\n",
      "       3001, 3002, 3003, 3004, 3005, 3006, 3007, 3008, 3009, 3010, 3011,\n",
      "       3012, 3013, 3014, 3015, 3016, 3017, 3018, 3019, 3020, 3021, 3022,\n",
      "       3023, 3024, 3025, 3026, 3027, 3028, 3029, 3030, 3031, 3032, 3033,\n",
      "       3034, 3035, 3036, 3037, 3038, 3039, 3040, 3041, 3042, 3043, 3044,\n",
      "       3045, 3046, 3047, 3048, 3279, 3280, 3281, 3282, 3283, 3284, 3285,\n",
      "       3286, 3287, 3288, 3289, 3290, 3291, 3292, 3293, 3294, 3295, 3296,\n",
      "       3297, 3298, 3299, 3300, 3301, 3302, 3303, 3304, 3305, 3306, 3307,\n",
      "       3308, 3309, 3310, 3311, 3312, 3313, 3314, 3315, 3316, 3317, 3318,\n",
      "       3319, 3320, 3321, 3322, 3323, 3324, 3325, 3326, 3327, 3328, 3329,\n",
      "       3330, 3331, 3332, 3333, 3334, 3335, 3336, 3337, 3338, 3339, 3340,\n",
      "       3341, 3342, 3343, 3344, 3345, 3346, 3347, 3348, 3349, 3350, 3351,\n",
      "       3352, 3353, 3354, 3355, 3356, 3357, 3358, 3359, 3360, 3361, 3362,\n",
      "       3363, 3364, 3365, 3366, 3367, 3368, 3369, 3370, 3371, 3372, 3373,\n",
      "       3374, 3375, 3376, 3377, 3378, 3379, 3380, 3381, 3382, 3383, 3384,\n",
      "       3385, 3386, 3387, 3388, 3389, 3390, 3391, 3392, 3393, 3394, 3395,\n",
      "       3396, 3397, 3398, 3399, 3400, 3422, 3423, 3424, 3425, 3426, 3427,\n",
      "       3428, 3429, 3430, 3431, 3432, 3433, 3434, 3435, 3436, 3437, 3438,\n",
      "       3439, 3440, 3441, 3442, 3443, 3444, 3445, 3446, 3447, 3448, 3449,\n",
      "       3450, 3451, 3452, 3453, 3454, 3455, 3456, 3457, 3458, 3459, 3460,\n",
      "       3461, 3462, 3463, 3464, 3465, 3466, 3467, 3468, 3469, 3470, 3471,\n",
      "       3472, 3473, 3474, 3475, 3476, 3477, 3478, 3479, 3480, 3481, 3482,\n",
      "       3483, 3484, 3485, 3486, 3487, 3488, 3489, 3490, 3491, 3492, 3493,\n",
      "       3494, 3495, 3496, 3497, 3498, 3499, 3500, 3501, 3502, 3503, 3504,\n",
      "       3505, 3506]), 'window_size': 4064}\n"
     ]
    }
   ],
   "source": [
    "\n",
    "print(mx_profile[0])\n",
    "\n",
    "# ampiimts.plot_multidim_matrix_profile(pds_normalized[0], mx_profile[0])"
   ]
  }
 ],
 "metadata": {
  "kernelspec": {
   "display_name": ".env_swt",
   "language": "python",
   "name": "python3"
  },
  "language_info": {
   "codemirror_mode": {
    "name": "ipython",
    "version": 3
   },
   "file_extension": ".py",
   "mimetype": "text/x-python",
   "name": "python",
   "nbconvert_exporter": "python",
   "pygments_lexer": "ipython3",
   "version": "3.12.3"
  }
 },
 "nbformat": 4,
 "nbformat_minor": 5
}
