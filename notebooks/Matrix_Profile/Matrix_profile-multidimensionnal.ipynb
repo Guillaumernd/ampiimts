{
 "cells": [
  {
   "cell_type": "code",
   "execution_count": 1,
   "id": "69eb89ef-e549-46cd-b95e-9088eefc14cf",
   "metadata": {},
   "outputs": [],
   "source": [
    "\"\"\"\n",
    "Notebook Matrix Profile – ampiimts Python 3.11 package\n",
    "\n",
    "Goal:\n",
    "From pre processing signal with original value, normalize value, timestamp. \n",
    "We identify discord and motifs with a fix window on matrix profile methode (stumpy.maamp)\n",
    "\"\"\"\n",
    "import pandas as pd\n",
    "import ampiimts\n",
    "import time\n",
    "import os "
   ]
  },
  {
   "cell_type": "code",
   "execution_count": 2,
   "id": "c5906738-4794-45a7-b6ae-7a5f61ef54ca",
   "metadata": {},
   "outputs": [],
   "source": [
    "#import files\n",
    "folder = '../../dataset/pollution'\n",
    "pds = []\n",
    "with os.scandir(folder) as entries:\n",
    "    for entry in entries:\n",
    "        if entry.is_file() and entry.name.endswith('csv'):\n",
    "            # list of sensors with some parameters -> list[pd.DataFrame[timestamp, value1, value2, etc..., latitude, longitude]]) \n",
    "            pds.append(pd.read_csv(folder+'/'+entry.name))"
   ]
  },
  {
   "cell_type": "code",
   "execution_count": null,
   "id": "6d16a381-f956-4dbd-ba37-114cbadabb04",
   "metadata": {},
   "outputs": [],
   "source": [
    "pds_normalized = ampiimts.pre_processed(pds)"
   ]
  },
  {
   "cell_type": "code",
   "execution_count": null,
   "id": "7b09ffb8",
   "metadata": {},
   "outputs": [],
   "source": [
    "matrix_profiles = ampiimts.matrix_profile(pds_normalized)"
   ]
  },
  {
   "cell_type": "code",
   "execution_count": null,
   "id": "3af020c3-21e8-4815-b3d6-f70f6a3e5aaa",
   "metadata": {},
   "outputs": [],
   "source": [
    "ampiimts.plot_multiple_dfs([pds_normalized[0]], ['Normalize'], column='carbon_monoxide_4')"
   ]
  },
  {
   "cell_type": "code",
   "execution_count": null,
   "id": "4e9ea521-d7b2-4b2b-bd9f-e4f5eb511d7b",
   "metadata": {
    "editable": true,
    "slideshow": {
     "slide_type": ""
    },
    "tags": []
   },
   "outputs": [],
   "source": [
    "# --- import of CSV file ---\n",
    "start_time = time.perf_counter()\n",
    "\n",
    "# get original dataframe\n",
    "df = pd.read_csv('../../dataset/art_daily_jumpsup.csv')\n",
    "df_normalize = ampiimts.pre_processed(df)\n",
    "df_profile = ampiimts.matrix_profile(df_normalize)\n",
    "ampiimts.plot_multiple_dfs([df, df_normalize, df_profile], ['Original', 'Normalize', 'Matrix profile'], column='value')\n",
    "end_time = time.perf_counter()\n",
    "print(f\"timing : {end_time - start_time}\")"
   ]
  }
 ],
 "metadata": {
  "kernelspec": {
   "display_name": ".env_swt",
   "language": "python",
   "name": "python3"
  },
  "language_info": {
   "codemirror_mode": {
    "name": "ipython",
    "version": 3
   },
   "file_extension": ".py",
   "mimetype": "text/x-python",
   "name": "python",
   "nbconvert_exporter": "python",
   "pygments_lexer": "ipython3",
   "version": "3.12.3"
  }
 },
 "nbformat": 4,
 "nbformat_minor": 5
}
