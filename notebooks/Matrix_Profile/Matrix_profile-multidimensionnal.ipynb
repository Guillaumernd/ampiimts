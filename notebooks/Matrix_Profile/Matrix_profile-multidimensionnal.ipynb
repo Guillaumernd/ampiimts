{
 "cells": [
  {
   "cell_type": "code",
   "execution_count": null,
   "id": "ca7b84dc",
   "metadata": {},
   "outputs": [],
   "source": [
    "\"\"\"\n",
    "Notebook - Matrix Profile Analysis using ampiimts (Python 3.11)\n",
    "\n",
    "Goal:\n",
    "From preprocessed signals (with original values, normalized values, and timestamps),\n",
    "identify discords and motifs using a fixed-size sliding window based on the matrix profile method (stumpy.maamp).\n",
    "\"\"\"\n",
    "\n",
    "# %matplotlib widget\n",
    "\n",
    "import pandas as pd\n",
    "import os\n",
    "import ampiimts\n",
    "\n",
    "# --- Safe loading of input CSV files ---\n",
    "folder = '../../dataset/air_bejin'\n",
    "pds = []\n",
    "\n",
    "with os.scandir(folder) as entries:\n",
    "    for entry in entries:\n",
    "        if entry.is_file() and entry.name.endswith('.csv'):\n",
    "            try:\n",
    "                df = pd.read_csv(os.path.join(folder, entry.name))\n",
    "                pds.append(df.iloc[:1_000])  # Load first 10,000 rows only\n",
    "            except Exception:\n",
    "                continue\n",
    "\n",
    "# --- Merge all files into one multivariate DataFrame ---\n",
    "# --- Preprocessing: interpolation + normalization + optional clustering ---\n",
    "pds_interpolated, pds_normalized = ampiimts.pre_processed(\n",
    "    pds,\n",
    "    sort_by_variables=False,\n",
    "    cluster=True,\n",
    "    top_k_cluster=4\n",
    ")\n",
    "\n",
    "# --- Compute matrix profile with clustering support ---\n",
    "matrix_profile_result = ampiimts.matrix_profile(pds_normalized, cluster=True)\n",
    "\n",
    "# --- Visualization ---\n",
    "ampiimts.plot_all_patterns_and_discords(pds_interpolated, matrix_profile_result)\n",
    "ampiimts.plot_all_motif_overlays(pds_interpolated, matrix_profile_result)\n"
   ]
  }
 ],
 "metadata": {
  "kernelspec": {
   "display_name": ".env_swt",
   "language": "python",
   "name": "python3"
  },
  "language_info": {
   "codemirror_mode": {
    "name": "ipython",
    "version": 3
   },
   "file_extension": ".py",
   "mimetype": "text/x-python",
   "name": "python",
   "nbconvert_exporter": "python",
   "pygments_lexer": "ipython3",
   "version": "3.12.3"
  }
 },
 "nbformat": 4,
 "nbformat_minor": 5
}
